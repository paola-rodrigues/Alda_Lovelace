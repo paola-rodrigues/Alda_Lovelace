{
  "nbformat": 4,
  "nbformat_minor": 0,
  "metadata": {
    "colab": {
      "name": "atividade 09-09-21 EBAC .ipynb",
      "provenance": [],
      "authorship_tag": "ABX9TyNKx8WvpbC9BKj6uK3gSrrV",
      "include_colab_link": true
    },
    "kernelspec": {
      "name": "python3",
      "display_name": "Python 3"
    },
    "language_info": {
      "name": "python"
    }
  },
  "cells": [
    {
      "cell_type": "markdown",
      "metadata": {
        "id": "view-in-github",
        "colab_type": "text"
      },
      "source": [
        "<a href=\"https://colab.research.google.com/github/paola-rodrigues/Alda_Lovelace/blob/main/atividade_09_09_21_EBAC_.ipynb\" target=\"_parent\"><img src=\"https://colab.research.google.com/assets/colab-badge.svg\" alt=\"Open In Colab\"/></a>"
      ]
    },
    {
      "cell_type": "markdown",
      "metadata": {
        "id": "a3ikC5QxHMPn"
      },
      "source": [
        "1.1 ***Exercícios 1***"
      ]
    },
    {
      "cell_type": "code",
      "metadata": {
        "colab": {
          "base_uri": "https://localhost:8080/"
        },
        "id": "mb6xOlClHXwu",
        "outputId": "5b88344d-73f2-4140-b889-ae5ce09a9f13"
      },
      "source": [
        "print(\"Olá mundo\")"
      ],
      "execution_count": null,
      "outputs": [
        {
          "output_type": "stream",
          "name": "stdout",
          "text": [
            "Olá mundo\n"
          ]
        }
      ]
    },
    {
      "cell_type": "markdown",
      "metadata": {
        "id": "o_DAaH6JHbBo"
      },
      "source": [
        "***1.2  Adicone uma imagem ***\n",
        "![tt.png](data:image/png;base64,iVBORw0KGgoAAAANSUhEUgAAABkAAAAYCAYAAAAPtVbGAAAACXBIWXMAAAsTAAALEwEAmpwYAAAAAXNSR0IArs4c6QAAAARnQU1BAACxjwv8YQUAAAGXSURBVHgB5VVBVoMwEJ1gFy57A7lB6w1g5856g96g3gA8gfUE4gnszqX0Bu0J5AjtBcD/TeBFEJKKK/vfG4YQ8n+SmUlE/guU/BJpmk6VUquqquZoTmF72BrfC+ufkG1VNzDgNkmSJ08BEr/CwnYfeNKyLI/kQ/MF/2YX7IgAuCyOY8nzfOsQCOHefhIwiCBwA0+eNagvA9PBmQmWDo70UYZxPyBQ4wCbwd7BdwgM+cEmQccHbNlDMBM3GKMjLGZjwgeWl8HZKwhhzxBK4B9guR1QH+D/qH5X1sc13GpgHFe7E721U3GLNNyB+bDElhWGpA8kjsRDwEyowaR+wZa5An4K9najzq5NW30kdh0Rphnc3R8KZR0RI5TDXYsuojHYgau7EgtM2SsZh87R1BZhTfhkTx8ynlWDIqbguGWFnI5C9CQ76D3qIbgQXZyRuMGEiduxqBH0CLCqF54CxZAAoXj5kBAVz0soFH0ARuIHZuLSda41lxYdjBeNT+C3ethX2jvRiYmJxVy+H4Tc80J0JW9M8Z4hPgFwkIv0cM8CswAAAABJRU5ErkJggg==)\n",
        "\n"
      ]
    },
    {
      "cell_type": "code",
      "metadata": {
        "colab": {
          "base_uri": "https://localhost:8080/"
        },
        "id": "veEJH8p1Eqjc",
        "outputId": "9b2b6f26-7f82-4c6e-deef-3cf206ab85b2"
      },
      "source": [
        "skt_19=320.52\n",
        "sqv_19=3\n",
        "\n",
        "svv_19 = skt_19 * sqv_19\n",
        "print(svv_19)\n",
        "\n"
      ],
      "execution_count": null,
      "outputs": [
        {
          "output_type": "stream",
          "name": "stdout",
          "text": [
            "961.56\n"
          ]
        }
      ]
    },
    {
      "cell_type": "code",
      "metadata": {
        "colab": {
          "base_uri": "https://localhost:8080/"
        },
        "id": "AM12n4UvGkSp",
        "outputId": "2d9dcff9-bda8-40df-a2c8-0fb1816e2135"
      },
      "source": [
        "svv_20 = 834.47\n",
        "skt_20 = 119.21\n",
        "\n",
        "sqt_20 = svv_20 / skt_20\n",
        "print(sqt_20)"
      ],
      "execution_count": null,
      "outputs": [
        {
          "output_type": "stream",
          "name": "stdout",
          "text": [
            "7.000000000000001\n"
          ]
        }
      ]
    },
    {
      "cell_type": "markdown",
      "metadata": {
        "id": "1KWo5VvQJJ8W"
      },
      "source": [
        "***3. Strings***\n"
      ]
    },
    {
      "cell_type": "code",
      "metadata": {
        "colab": {
          "base_uri": "https://localhost:8080/"
        },
        "id": "DxNBpjTwHJiN",
        "outputId": "9a02965b-c521-4fce-c1e9-b1fcee65939f"
      },
      "source": [
        "cancao = \"Roda mundo, roda gigante, roda moinho, roda pião.\"\n",
        "x = cancao.count(\"roda\")\n",
        "\n",
        "print(x)"
      ],
      "execution_count": null,
      "outputs": [
        {
          "output_type": "stream",
          "name": "stdout",
          "text": [
            "3\n"
          ]
        }
      ]
    },
    {
      "cell_type": "code",
      "metadata": {
        "colab": {
          "base_uri": "https://localhost:8080/"
        },
        "id": "E58Xdkv6NAVF",
        "outputId": "4a724733-990d-431e-87b7-8bd3ddaea41a"
      },
      "source": [
        "cancao = \"Roda mundo, roda gigante, roda moinho, {price} roda pião.\"\n",
        "\n",
        "print(cancao.format(price = \"não\"))"
      ],
      "execution_count": null,
      "outputs": [
        {
          "output_type": "stream",
          "name": "stdout",
          "text": [
            "Roda mundo, roda gigante, roda moinho, não roda pião.\n"
          ]
        }
      ]
    },
    {
      "cell_type": "code",
      "metadata": {
        "colab": {
          "base_uri": "https://localhost:8080/"
        },
        "id": "V391f6WXOTe4",
        "outputId": "7efac386-e646-4634-c4fc-30d4ba69e7e2"
      },
      "source": [
        "cancao = \"Roda mundo, roda gigante, roda moinho, roda pião.\"\n",
        "\n",
        "x = cancao.index(\"roda\")\n",
        "\n",
        "print(x)\n"
      ],
      "execution_count": null,
      "outputs": [
        {
          "output_type": "stream",
          "name": "stdout",
          "text": [
            "12\n"
          ]
        }
      ]
    },
    {
      "cell_type": "code",
      "metadata": {
        "colab": {
          "base_uri": "https://localhost:8080/"
        },
        "id": "3Znpi52BT9g-",
        "outputId": "9c113468-641a-4995-f54f-62ebc06b0cba"
      },
      "source": [
        "noticia = 'Selic vai a 2,75% e supera expectativas; ' + \\\n",
        " 'é a primeira alta em 6 anos.'\n",
        "print('0: ' + noticia[12])\n",
        "print('11: ' + noticia[17])\n",
        "\n",
        "selic_numero = noticia[12:17]\n",
        "print(selic_numero)"
      ],
      "execution_count": null,
      "outputs": [
        {
          "output_type": "stream",
          "name": "stdout",
          "text": [
            "0: 2\n",
            "11:  \n",
            "2,75%\n"
          ]
        }
      ]
    },
    {
      "cell_type": "code",
      "metadata": {
        "colab": {
          "base_uri": "https://localhost:8080/"
        },
        "id": "cXxlI4AdV7GI",
        "outputId": "98152f18-b385-4511-e510-746deb30504d"
      },
      "source": [
        "noticia = 'Selic vai a 2,75% e supera expectativas; ' + \\\n",
        " 'é a primeira alta em 6 anos.'\n",
        "print('-1: ' + noticia[-1])\n",
        "print('-2: ' + noticia[-2])\n",
        "print('-3: ' + noticia[-3])\n",
        "print('-4: ' + noticia[-4])\n",
        "print('-5: ' + noticia[-5])\n",
        "print('-6: ' + noticia[-6])\n",
        "print('-7: ' + noticia[-7])\n",
        "\n",
        "\n",
        "selic_numero = noticia[61:63]\n",
        "print(selic_numero)\n"
      ],
      "execution_count": null,
      "outputs": [
        {
          "output_type": "stream",
          "name": "stdout",
          "text": [
            "-1: .\n",
            "-2: s\n",
            "-3: o\n",
            "-4: n\n",
            "-5: a\n",
            "-6:  \n",
            "-7: 6\n",
            " 6\n"
          ]
        }
      ]
    },
    {
      "cell_type": "code",
      "metadata": {
        "colab": {
          "base_uri": "https://localhost:8080/"
        },
        "id": "X4NT70OQWVYJ",
        "outputId": "0d4d9c83-3181-4c2f-c2a7-2729392f0920"
      },
      "source": [
        "email = 'andre.perez@gmail.com'\n",
        "print('-1: ' + email[-1])\n",
        "print('-2: ' + email[-2])\n",
        " \n",
        "email_provedor = email[12:21]\n",
        "print(email_provedor)\n"
      ],
      "execution_count": null,
      "outputs": [
        {
          "output_type": "stream",
          "name": "stdout",
          "text": [
            "-1: m\n",
            "-2: o\n",
            "gmail.com\n"
          ]
        }
      ]
    },
    {
      "cell_type": "markdown",
      "metadata": {
        "id": "hJMOLTNfdxnH"
      },
      "source": [
        "**4. Booleanos**\n"
      ]
    },
    {
      "cell_type": "code",
      "metadata": {
        "colab": {
          "base_uri": "https://localhost:8080/"
        },
        "id": "_zDYpe_pdvrJ",
        "outputId": "aac8840d-7025-4310-e88f-691c56dd7ebc"
      },
      "source": [
        "a = False\n",
        "b = True\n",
        "x = not a & b\n",
        "print(x)"
      ],
      "execution_count": null,
      "outputs": [
        {
          "output_type": "stream",
          "name": "stdout",
          "text": [
            "True\n"
          ]
        }
      ]
    }
  ]
}